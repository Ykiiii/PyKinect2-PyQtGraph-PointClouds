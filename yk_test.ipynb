{
 "cells": [
  {
   "cell_type": "code",
   "execution_count": null,
   "metadata": {},
   "outputs": [],
   "source": [
    "from PointCloud import Cloud\n",
    "import open3d as o3d\n",
    "import numpy as np"
   ]
  },
  {
   "cell_type": "code",
   "execution_count": null,
   "metadata": {},
   "outputs": [],
   "source": [
    "pcl = Cloud(dynamic=True, depth=True, color_overlay=True)\n",
    "pcl.visualize()"
   ]
  },
  {
   "cell_type": "code",
   "execution_count": null,
   "metadata": {},
   "outputs": [],
   "source": [
    "pcl = Cloud(dynamic=True, color=True, color_overlay=False)\n",
    "pcl.visualize()"
   ]
  },
  {
   "cell_type": "code",
   "execution_count": null,
   "metadata": {},
   "outputs": [],
   "source": []
  },
  {
   "cell_type": "code",
   "execution_count": null,
   "metadata": {},
   "outputs": [],
   "source": [
    "# \n",
    "pcl = Cloud(file='a.txt', color_overlay=True)\n",
    "pcl.visualize()"
   ]
  },
  {
   "cell_type": "markdown",
   "metadata": {},
   "source": [
    "# openGL"
   ]
  },
  {
   "cell_type": "code",
   "execution_count": null,
   "metadata": {},
   "outputs": [],
   "source": [
    "import numpy as np\n",
    "import pyqtgraph.opengl as gl\n",
    "from PyQt5.QtWidgets import QApplication, QVBoxLayout, QMainWindow, QWidget\n",
    "import sys\n",
    "\n",
    "class TestWindow(QMainWindow):\n",
    "    def __init__(self, parent=None):\n",
    "        QMainWindow.__init__(self)\n",
    "        # 设置窗体尺寸\n",
    "        self.setGeometry(300, 300, 500, 350)\n",
    "        # 添加一个OpenGL视图部件\n",
    "        self.D3wid = gl.GLViewWidget()\n",
    "        self.D3wid.setBackgroundColor(255, 255, 255)\n",
    "        self.D3wid.setCameraPosition(distance=180)\n",
    "        # 将OpenGL视图部件垂直排列布局\n",
    "        centralWidget = QWidget()\n",
    "        main_layout = QVBoxLayout()\n",
    "        main_layout.addWidget(self.D3wid)\n",
    "        centralWidget.setLayout(main_layout)\n",
    "        # 应用上述布局\n",
    "        self.setCentralWidget(centralWidget)\n",
    "        # 绘制三维散点图\n",
    "        self.shape_3d_map()\n",
    "\n",
    "    def shape_3d_map(self):\n",
    "        # 生成随机的三维坐标、颜色和大小\n",
    "        pos = np.random.random(size=(1000, 3))\n",
    "        pos *= [10, -10, 10]\n",
    "        color = np.ones((pos.shape[0], 4))\n",
    "        size = np.random.random(size=pos.shape[0]) * 10\n",
    "        # 创建一个GLScatterPlotItem对象\n",
    "        self.D3 = gl.GLScatterPlotItem(pos=pos, color=color, size=size)\n",
    "        # 将GLScatterPlotItem对象添加到OpenGL视图中\n",
    "        self.D3wid.addItem(self.D3)\n",
    "\n",
    "if __name__ == \"__main__\":\n",
    "    app = QApplication(sys.argv)\n",
    "    qb = TestWindow()\n",
    "    qb.show()\n",
    "    sys.exit(app.exec_())\n"
   ]
  },
  {
   "cell_type": "code",
   "execution_count": null,
   "metadata": {},
   "outputs": [],
   "source": []
  },
  {
   "cell_type": "markdown",
   "metadata": {},
   "source": [
    "# just get pcl"
   ]
  },
  {
   "cell_type": "code",
   "execution_count": 1,
   "metadata": {},
   "outputs": [],
   "source": [
    "from pykinect2.PyKinectV2 import *\n",
    "from pykinect2 import PyKinectV2\n",
    "from pykinect2 import PyKinectRuntime\n",
    "import numpy as np\n",
    "import mapper,cv2,ctypes"
   ]
  },
  {
   "cell_type": "code",
   "execution_count": 6,
   "metadata": {},
   "outputs": [],
   "source": [
    "yk_kinect = PyKinectRuntime.PyKinectRuntime(PyKinectV2.FrameSourceTypes_Color|\n",
    "                                            PyKinectV2.FrameSourceTypes_Depth)\n",
    "# initialize zeros points just for initialization\n",
    "point_cloud_infrared = np.ndarray(shape=(2, 3), dtype=np.float32)\n",
    "# Initialize color and plot the scatter points\n",
    "point_color = np.zeros((len(point_cloud_infrared), 4), dtype=np.float32)\n",
    "point_color[:,:] = 1\n",
    "world_points = mapper.depth_2_world(yk_kinect, yk_kinect._depth_frame_data, _CameraSpacePoint)\n",
    "world_points = ctypes.cast(world_points, ctypes.POINTER(ctypes.c_float))\n",
    "world_points = np.ctypeslib.as_array(world_points, shape=(yk_kinect.depth_frame_desc.Height * yk_kinect.depth_frame_desc.Width, 3))\n",
    "# store points\n",
    "dynamic_point_cloud = np.ndarray(shape=(len(world_points), 3), dtype=np.float32)\n",
    "dynamic_point_cloud[:, 0] = world_points[:, 0] * 1000\n",
    "dynamic_point_cloud[:, 1] = world_points[:, 2] * 1000\n",
    "dynamic_point_cloud[:, 2] = world_points[:, 1] * 1000"
   ]
  },
  {
   "cell_type": "code",
   "execution_count": 3,
   "metadata": {},
   "outputs": [
    {
     "data": {
      "text/plain": [
       "array([[-inf, -inf, -inf],\n",
       "       [-inf, -inf, -inf],\n",
       "       [-inf, -inf, -inf],\n",
       "       ...,\n",
       "       [-inf, -inf, -inf],\n",
       "       [-inf, -inf, -inf],\n",
       "       [-inf, -inf, -inf]], dtype=float32)"
      ]
     },
     "execution_count": 3,
     "metadata": {},
     "output_type": "execute_result"
    }
   ],
   "source": [
    "dynamic_point_cloud"
   ]
  },
  {
   "cell_type": "code",
   "execution_count": null,
   "metadata": {},
   "outputs": [],
   "source": []
  },
  {
   "cell_type": "code",
   "execution_count": null,
   "metadata": {},
   "outputs": [],
   "source": []
  },
  {
   "cell_type": "code",
   "execution_count": null,
   "metadata": {},
   "outputs": [],
   "source": []
  },
  {
   "cell_type": "markdown",
   "metadata": {},
   "source": [
    "# cv2"
   ]
  },
  {
   "cell_type": "code",
   "execution_count": null,
   "metadata": {},
   "outputs": [],
   "source": []
  }
 ],
 "metadata": {
  "kernelspec": {
   "display_name": "yk_o3d",
   "language": "python",
   "name": "python3"
  },
  "language_info": {
   "codemirror_mode": {
    "name": "ipython",
    "version": 3
   },
   "file_extension": ".py",
   "mimetype": "text/x-python",
   "name": "python",
   "nbconvert_exporter": "python",
   "pygments_lexer": "ipython3",
   "version": "3.7.16"
  }
 },
 "nbformat": 4,
 "nbformat_minor": 2
}
